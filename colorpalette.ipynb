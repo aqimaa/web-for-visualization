{
  "nbformat": 4,
  "nbformat_minor": 0,
  "metadata": {
    "colab": {
      "provenance": [],
      "include_colab_link": true
    },
    "kernelspec": {
      "name": "python3",
      "display_name": "Python 3"
    },
    "language_info": {
      "name": "python"
    }
  },
  "cells": [
    {
      "cell_type": "markdown",
      "metadata": {
        "id": "view-in-github",
        "colab_type": "text"
      },
      "source": [
        "<a href=\"https://colab.research.google.com/github/aqimaa/web-for-visualization/blob/main/colorpalette.ipynb\" target=\"_parent\"><img src=\"https://colab.research.google.com/assets/colab-badge.svg\" alt=\"Open In Colab\"/></a>"
      ]
    },
    {
      "cell_type": "code",
      "execution_count": 1,
      "metadata": {
        "id": "vnifdfQyEcU3"
      },
      "outputs": [],
      "source": [
        "import os\n",
        "import pandas as pd\n",
        "import tensorflow as tf\n",
        "from tensorflow.keras.preprocessing.image import ImageDataGenerator\n",
        "from tensorflow.keras import layers, models, Sequential\n",
        "from tensorflow.keras.applications import InceptionV3\n",
        "from tensorflow.keras.callbacks import EarlyStopping"
      ]
    },
    {
      "cell_type": "code",
      "source": [
        "from google.colab import drive\n",
        "drive.mount('/content/drive')"
      ],
      "metadata": {
        "colab": {
          "base_uri": "https://localhost:8080/"
        },
        "id": "AaUitZUfA-W8",
        "outputId": "ab78ed7f-48a3-428e-a459-29e01e8d2fa9"
      },
      "execution_count": 2,
      "outputs": [
        {
          "output_type": "stream",
          "name": "stdout",
          "text": [
            "Mounted at /content/drive\n"
          ]
        }
      ]
    },
    {
      "cell_type": "code",
      "source": [
        "# Load CSV files containing the labels\n",
        "train_classes_df = pd.read_csv('/content/drive/MyDrive/ColabNotebooks/colorpalette/data/train/_classes.csv')\n",
        "valid_classes_df = pd.read_csv('/content/drive/MyDrive/ColabNotebooks/colorpalette/data/valid/_classes.csv')\n",
        "test_classes_df = pd.read_csv('/content/drive/MyDrive/ColabNotebooks/colorpalette/data/test/_classes.csv')"
      ],
      "metadata": {
        "id": "4SfiCEXwElwO"
      },
      "execution_count": 3,
      "outputs": []
    },
    {
      "cell_type": "code",
      "source": [
        "# Directory paths\n",
        "train_dir = '/content/drive/MyDrive/ColabNotebooks/colorpalette/data/train'\n",
        "valid_dir = '/content/drive/MyDrive/ColabNotebooks/colorpalette/data/valid'\n",
        "test_dir = '/content/drive/MyDrive/ColabNotebooks/colorpalette/data/test'\n",
        "\n",
        "\n",
        "# Image and batch parameters\n",
        "img_height, img_width = 224, 224\n",
        "batch_size = 32"
      ],
      "metadata": {
        "id": "rVPPgcQfEoON"
      },
      "execution_count": 4,
      "outputs": []
    },
    {
      "cell_type": "code",
      "source": [
        "train_datagen = ImageDataGenerator(\n",
        "    rescale=1./255,\n",
        "    rotation_range=50,\n",
        "    width_shift_range=0.3,\n",
        "    height_shift_range=0.3,\n",
        "    shear_range=0.3,\n",
        "    zoom_range=0.3,\n",
        "    horizontal_flip=True,\n",
        "    fill_mode='nearest'\n",
        ")"
      ],
      "metadata": {
        "id": "fImS9DaGGCqt"
      },
      "execution_count": 5,
      "outputs": []
    },
    {
      "cell_type": "code",
      "source": [
        "valid_datagen = ImageDataGenerator(rescale=1./255)\n",
        "test_datagen = ImageDataGenerator(rescale=1./255)"
      ],
      "metadata": {
        "id": "r_l59hYMGFir"
      },
      "execution_count": 6,
      "outputs": []
    },
    {
      "cell_type": "code",
      "source": [
        "# Training data generator\n",
        "train_generator = train_datagen.flow_from_dataframe(\n",
        "    dataframe=train_classes_df,\n",
        "    directory=train_dir,\n",
        "    x_col=\"filename\",\n",
        "    y_col=[\" fall\", \" spring\", \" summer\", \" winter\"],\n",
        "    target_size=(img_height, img_width),\n",
        "    batch_size=batch_size,\n",
        "    class_mode=\"raw\"\n",
        ")\n",
        "\n",
        "# Validation data generator\n",
        "valid_generator = valid_datagen.flow_from_dataframe(\n",
        "    dataframe=valid_classes_df,\n",
        "    directory=valid_dir,\n",
        "    x_col=\"filename\",\n",
        "    y_col=[\" fall\", \" spring\", \" summer\", \" winter\"],\n",
        "    target_size=(img_height, img_width),\n",
        "    batch_size=batch_size,\n",
        "    class_mode=\"raw\"\n",
        ")"
      ],
      "metadata": {
        "id": "LA6Q_peOGIsx",
        "colab": {
          "base_uri": "https://localhost:8080/"
        },
        "outputId": "bf92e2a4-f98f-462d-ae37-6405976422a0"
      },
      "execution_count": 7,
      "outputs": [
        {
          "output_type": "stream",
          "name": "stdout",
          "text": [
            "Found 456 validated image filenames.\n",
            "Found 50 validated image filenames.\n"
          ]
        }
      ]
    },
    {
      "cell_type": "code",
      "source": [
        "base_model = InceptionV3(weights='imagenet', include_top=False, input_shape=(img_height, img_width, 3))\n",
        "\n",
        "# Freeze earlier layers of the pretrained model\n",
        "for layer in base_model.layers[:-70]:\n",
        "    layer.trainable = False"
      ],
      "metadata": {
        "id": "qKkWGWBpGLj3"
      },
      "execution_count": 21,
      "outputs": []
    },
    {
      "cell_type": "code",
      "source": [
        "model = Sequential([\n",
        "    base_model,\n",
        "    layers.GlobalAveragePooling2D(),\n",
        "    layers.Dense(128, activation='relu'),\n",
        "    layers.Dropout(0.3),\n",
        "    layers.Dense(4, activation='softmax')\n",
        "])"
      ],
      "metadata": {
        "id": "rEq2nQdDGN3-"
      },
      "execution_count": 27,
      "outputs": []
    },
    {
      "cell_type": "code",
      "source": [
        "model.summary()"
      ],
      "metadata": {
        "colab": {
          "base_uri": "https://localhost:8080/",
          "height": 331
        },
        "id": "TYc6VFhfq_zv",
        "outputId": "4999e8e6-f997-457a-baf6-e2bee6faf099"
      },
      "execution_count": 44,
      "outputs": [
        {
          "output_type": "display_data",
          "data": {
            "text/plain": [
              "\u001b[1mModel: \"sequential_3\"\u001b[0m\n"
            ],
            "text/html": [
              "<pre style=\"white-space:pre;overflow-x:auto;line-height:normal;font-family:Menlo,'DejaVu Sans Mono',consolas,'Courier New',monospace\"><span style=\"font-weight: bold\">Model: \"sequential_3\"</span>\n",
              "</pre>\n"
            ]
          },
          "metadata": {}
        },
        {
          "output_type": "display_data",
          "data": {
            "text/plain": [
              "┏━━━━━━━━━━━━━━━━━━━━━━━━━━━━━━━━━━━━━━┳━━━━━━━━━━━━━━━━━━━━━━━━━━━━━┳━━━━━━━━━━━━━━━━━┓\n",
              "┃\u001b[1m \u001b[0m\u001b[1mLayer (type)                        \u001b[0m\u001b[1m \u001b[0m┃\u001b[1m \u001b[0m\u001b[1mOutput Shape               \u001b[0m\u001b[1m \u001b[0m┃\u001b[1m \u001b[0m\u001b[1m        Param #\u001b[0m\u001b[1m \u001b[0m┃\n",
              "┡━━━━━━━━━━━━━━━━━━━━━━━━━━━━━━━━━━━━━━╇━━━━━━━━━━━━━━━━━━━━━━━━━━━━━╇━━━━━━━━━━━━━━━━━┩\n",
              "│ inception_v3 (\u001b[38;5;33mFunctional\u001b[0m)            │ (\u001b[38;5;45mNone\u001b[0m, \u001b[38;5;34m5\u001b[0m, \u001b[38;5;34m5\u001b[0m, \u001b[38;5;34m2048\u001b[0m)          │      \u001b[38;5;34m21,802,784\u001b[0m │\n",
              "├──────────────────────────────────────┼─────────────────────────────┼─────────────────┤\n",
              "│ global_average_pooling2d_3           │ (\u001b[38;5;45mNone\u001b[0m, \u001b[38;5;34m2048\u001b[0m)                │               \u001b[38;5;34m0\u001b[0m │\n",
              "│ (\u001b[38;5;33mGlobalAveragePooling2D\u001b[0m)             │                             │                 │\n",
              "├──────────────────────────────────────┼─────────────────────────────┼─────────────────┤\n",
              "│ dense_6 (\u001b[38;5;33mDense\u001b[0m)                      │ (\u001b[38;5;45mNone\u001b[0m, \u001b[38;5;34m128\u001b[0m)                 │         \u001b[38;5;34m262,272\u001b[0m │\n",
              "├──────────────────────────────────────┼─────────────────────────────┼─────────────────┤\n",
              "│ dropout_3 (\u001b[38;5;33mDropout\u001b[0m)                  │ (\u001b[38;5;45mNone\u001b[0m, \u001b[38;5;34m128\u001b[0m)                 │               \u001b[38;5;34m0\u001b[0m │\n",
              "├──────────────────────────────────────┼─────────────────────────────┼─────────────────┤\n",
              "│ dense_7 (\u001b[38;5;33mDense\u001b[0m)                      │ (\u001b[38;5;45mNone\u001b[0m, \u001b[38;5;34m4\u001b[0m)                   │             \u001b[38;5;34m516\u001b[0m │\n",
              "└──────────────────────────────────────┴─────────────────────────────┴─────────────────┘\n"
            ],
            "text/html": [
              "<pre style=\"white-space:pre;overflow-x:auto;line-height:normal;font-family:Menlo,'DejaVu Sans Mono',consolas,'Courier New',monospace\">┏━━━━━━━━━━━━━━━━━━━━━━━━━━━━━━━━━━━━━━┳━━━━━━━━━━━━━━━━━━━━━━━━━━━━━┳━━━━━━━━━━━━━━━━━┓\n",
              "┃<span style=\"font-weight: bold\"> Layer (type)                         </span>┃<span style=\"font-weight: bold\"> Output Shape                </span>┃<span style=\"font-weight: bold\">         Param # </span>┃\n",
              "┡━━━━━━━━━━━━━━━━━━━━━━━━━━━━━━━━━━━━━━╇━━━━━━━━━━━━━━━━━━━━━━━━━━━━━╇━━━━━━━━━━━━━━━━━┩\n",
              "│ inception_v3 (<span style=\"color: #0087ff; text-decoration-color: #0087ff\">Functional</span>)            │ (<span style=\"color: #00d7ff; text-decoration-color: #00d7ff\">None</span>, <span style=\"color: #00af00; text-decoration-color: #00af00\">5</span>, <span style=\"color: #00af00; text-decoration-color: #00af00\">5</span>, <span style=\"color: #00af00; text-decoration-color: #00af00\">2048</span>)          │      <span style=\"color: #00af00; text-decoration-color: #00af00\">21,802,784</span> │\n",
              "├──────────────────────────────────────┼─────────────────────────────┼─────────────────┤\n",
              "│ global_average_pooling2d_3           │ (<span style=\"color: #00d7ff; text-decoration-color: #00d7ff\">None</span>, <span style=\"color: #00af00; text-decoration-color: #00af00\">2048</span>)                │               <span style=\"color: #00af00; text-decoration-color: #00af00\">0</span> │\n",
              "│ (<span style=\"color: #0087ff; text-decoration-color: #0087ff\">GlobalAveragePooling2D</span>)             │                             │                 │\n",
              "├──────────────────────────────────────┼─────────────────────────────┼─────────────────┤\n",
              "│ dense_6 (<span style=\"color: #0087ff; text-decoration-color: #0087ff\">Dense</span>)                      │ (<span style=\"color: #00d7ff; text-decoration-color: #00d7ff\">None</span>, <span style=\"color: #00af00; text-decoration-color: #00af00\">128</span>)                 │         <span style=\"color: #00af00; text-decoration-color: #00af00\">262,272</span> │\n",
              "├──────────────────────────────────────┼─────────────────────────────┼─────────────────┤\n",
              "│ dropout_3 (<span style=\"color: #0087ff; text-decoration-color: #0087ff\">Dropout</span>)                  │ (<span style=\"color: #00d7ff; text-decoration-color: #00d7ff\">None</span>, <span style=\"color: #00af00; text-decoration-color: #00af00\">128</span>)                 │               <span style=\"color: #00af00; text-decoration-color: #00af00\">0</span> │\n",
              "├──────────────────────────────────────┼─────────────────────────────┼─────────────────┤\n",
              "│ dense_7 (<span style=\"color: #0087ff; text-decoration-color: #0087ff\">Dense</span>)                      │ (<span style=\"color: #00d7ff; text-decoration-color: #00d7ff\">None</span>, <span style=\"color: #00af00; text-decoration-color: #00af00\">4</span>)                   │             <span style=\"color: #00af00; text-decoration-color: #00af00\">516</span> │\n",
              "└──────────────────────────────────────┴─────────────────────────────┴─────────────────┘\n",
              "</pre>\n"
            ]
          },
          "metadata": {}
        },
        {
          "output_type": "display_data",
          "data": {
            "text/plain": [
              "\u001b[1m Total params: \u001b[0m\u001b[38;5;34m46,591,406\u001b[0m (177.73 MB)\n"
            ],
            "text/html": [
              "<pre style=\"white-space:pre;overflow-x:auto;line-height:normal;font-family:Menlo,'DejaVu Sans Mono',consolas,'Courier New',monospace\"><span style=\"font-weight: bold\"> Total params: </span><span style=\"color: #00af00; text-decoration-color: #00af00\">46,591,406</span> (177.73 MB)\n",
              "</pre>\n"
            ]
          },
          "metadata": {}
        },
        {
          "output_type": "display_data",
          "data": {
            "text/plain": [
              "\u001b[1m Trainable params: \u001b[0m\u001b[38;5;34m12,262,916\u001b[0m (46.78 MB)\n"
            ],
            "text/html": [
              "<pre style=\"white-space:pre;overflow-x:auto;line-height:normal;font-family:Menlo,'DejaVu Sans Mono',consolas,'Courier New',monospace\"><span style=\"font-weight: bold\"> Trainable params: </span><span style=\"color: #00af00; text-decoration-color: #00af00\">12,262,916</span> (46.78 MB)\n",
              "</pre>\n"
            ]
          },
          "metadata": {}
        },
        {
          "output_type": "display_data",
          "data": {
            "text/plain": [
              "\u001b[1m Non-trainable params: \u001b[0m\u001b[38;5;34m9,802,656\u001b[0m (37.39 MB)\n"
            ],
            "text/html": [
              "<pre style=\"white-space:pre;overflow-x:auto;line-height:normal;font-family:Menlo,'DejaVu Sans Mono',consolas,'Courier New',monospace\"><span style=\"font-weight: bold\"> Non-trainable params: </span><span style=\"color: #00af00; text-decoration-color: #00af00\">9,802,656</span> (37.39 MB)\n",
              "</pre>\n"
            ]
          },
          "metadata": {}
        },
        {
          "output_type": "display_data",
          "data": {
            "text/plain": [
              "\u001b[1m Optimizer params: \u001b[0m\u001b[38;5;34m24,525,834\u001b[0m (93.56 MB)\n"
            ],
            "text/html": [
              "<pre style=\"white-space:pre;overflow-x:auto;line-height:normal;font-family:Menlo,'DejaVu Sans Mono',consolas,'Courier New',monospace\"><span style=\"font-weight: bold\"> Optimizer params: </span><span style=\"color: #00af00; text-decoration-color: #00af00\">24,525,834</span> (93.56 MB)\n",
              "</pre>\n"
            ]
          },
          "metadata": {}
        }
      ]
    },
    {
      "cell_type": "code",
      "source": [
        "model.compile(\n",
        "    optimizer=tf.keras.optimizers.Adam(learning_rate=1e-4),\n",
        "    loss='categorical_crossentropy',\n",
        "    metrics=['accuracy']\n",
        ")"
      ],
      "metadata": {
        "id": "05_ffl6UGQcm"
      },
      "execution_count": 28,
      "outputs": []
    },
    {
      "cell_type": "code",
      "source": [
        "early_stopping = EarlyStopping(\n",
        "    monitor='val_loss',\n",
        "    patience=3,\n",
        "    restore_best_weights=True\n",
        ")"
      ],
      "metadata": {
        "id": "FLGvssfRGSi2"
      },
      "execution_count": 29,
      "outputs": []
    },
    {
      "cell_type": "code",
      "source": [
        "history = model.fit(\n",
        "    train_generator,\n",
        "    steps_per_epoch=train_generator.samples // batch_size,\n",
        "    epochs=30,\n",
        "    validation_data=valid_generator,\n",
        "    validation_steps=valid_generator.samples // batch_size,\n",
        "    callbacks=[early_stopping]\n",
        ")"
      ],
      "metadata": {
        "id": "R_PfY1iVGU6l",
        "colab": {
          "base_uri": "https://localhost:8080/"
        },
        "outputId": "bbc8f44b-3db1-4d6f-cc28-28fa3f297dc9"
      },
      "execution_count": 30,
      "outputs": [
        {
          "output_type": "stream",
          "name": "stdout",
          "text": [
            "Epoch 1/30\n",
            "\u001b[1m14/14\u001b[0m \u001b[32m━━━━━━━━━━━━━━━━━━━━\u001b[0m\u001b[37m\u001b[0m \u001b[1m115s\u001b[0m 7s/step - accuracy: 0.3332 - loss: 1.4057 - val_accuracy: 0.2812 - val_loss: 1.4270\n",
            "Epoch 2/30\n",
            "\u001b[1m14/14\u001b[0m \u001b[32m━━━━━━━━━━━━━━━━━━━━\u001b[0m\u001b[37m\u001b[0m \u001b[1m9s\u001b[0m 168ms/step - accuracy: 0.3125 - loss: 1.2308 - val_accuracy: 0.3889 - val_loss: 1.5031\n",
            "Epoch 3/30\n",
            "\u001b[1m14/14\u001b[0m \u001b[32m━━━━━━━━━━━━━━━━━━━━\u001b[0m\u001b[37m\u001b[0m \u001b[1m127s\u001b[0m 6s/step - accuracy: 0.3803 - loss: 1.2431\n",
            "Epoch 4/30\n",
            "\u001b[1m14/14\u001b[0m \u001b[32m━━━━━━━━━━━━━━━━━━━━\u001b[0m\u001b[37m\u001b[0m \u001b[1m12s\u001b[0m 368ms/step - accuracy: 0.5625 - loss: 1.1373 - val_accuracy: 0.4062 - val_loss: 1.4626\n",
            "Epoch 5/30\n",
            "\u001b[1m14/14\u001b[0m \u001b[32m━━━━━━━━━━━━━━━━━━━━\u001b[0m\u001b[37m\u001b[0m \u001b[1m129s\u001b[0m 6s/step - accuracy: 0.4923 - loss: 1.1316 - val_accuracy: 0.5000 - val_loss: 1.0522\n",
            "Epoch 6/30\n",
            "\u001b[1m14/14\u001b[0m \u001b[32m━━━━━━━━━━━━━━━━━━━━\u001b[0m\u001b[37m\u001b[0m \u001b[1m8s\u001b[0m 5ms/step - accuracy: 0.5625 - loss: 1.0814 \n",
            "Epoch 7/30\n",
            "\u001b[1m14/14\u001b[0m \u001b[32m━━━━━━━━━━━━━━━━━━━━\u001b[0m\u001b[37m\u001b[0m \u001b[1m96s\u001b[0m 7s/step - accuracy: 0.6280 - loss: 0.9618 - val_accuracy: 0.6250 - val_loss: 1.2156\n",
            "Epoch 8/30\n",
            "\u001b[1m14/14\u001b[0m \u001b[32m━━━━━━━━━━━━━━━━━━━━\u001b[0m\u001b[37m\u001b[0m \u001b[1m5s\u001b[0m 227ms/step - accuracy: 0.6250 - loss: 0.9757 - val_accuracy: 0.6111 - val_loss: 1.4199\n",
            "Epoch 9/30\n",
            "\u001b[1m14/14\u001b[0m \u001b[32m━━━━━━━━━━━━━━━━━━━━\u001b[0m\u001b[37m\u001b[0m \u001b[1m133s\u001b[0m 6s/step - accuracy: 0.6355 - loss: 0.8945\n",
            "Epoch 10/30\n",
            "\u001b[1m14/14\u001b[0m \u001b[32m━━━━━━━━━━━━━━━━━━━━\u001b[0m\u001b[37m\u001b[0m \u001b[1m12s\u001b[0m 391ms/step - accuracy: 0.6562 - loss: 0.9018 - val_accuracy: 0.5312 - val_loss: 1.4355\n"
          ]
        }
      ]
    },
    {
      "cell_type": "code",
      "source": [
        "import matplotlib.pyplot as plt\n",
        "\n",
        "plt.plot(history.history['accuracy'], label='accuracy')\n",
        "plt.plot(history.history['val_accuracy'], label = 'val_accuracy')\n",
        "plt.xlabel('Epoch')\n",
        "plt.ylabel('Accuracy')\n",
        "plt.legend(loc='lower right')"
      ],
      "metadata": {
        "id": "dPpm1W7TGZ_7",
        "colab": {
          "base_uri": "https://localhost:8080/",
          "height": 466
        },
        "outputId": "afd7fccf-a5ef-44b1-df8c-e961168ef848"
      },
      "execution_count": 31,
      "outputs": [
        {
          "output_type": "execute_result",
          "data": {
            "text/plain": [
              "<matplotlib.legend.Legend at 0x7ef2338b8d00>"
            ]
          },
          "metadata": {},
          "execution_count": 31
        },
        {
          "output_type": "display_data",
          "data": {
            "text/plain": [
              "<Figure size 640x480 with 1 Axes>"
            ],
            "image/png": "[encoded data removed]"
          },
          "metadata": {}
        }
      ]
    },
    {
      "cell_type": "code",
      "source": [
        "from tensorflow.keras.utils import load_img, img_to_array\n",
        "import numpy as np\n",
        "\n",
        "for filename in os.listdir(test_dir):\n",
        "    file_path = os.path.join(test_dir, filename)\n",
        "    if os.path.isfile(file_path):\n",
        "        try:\n",
        "            img = load_img(file_path, target_size=(img_height, img_width))\n",
        "            img_array = img_to_array(img) / 255.0\n",
        "            img_array = np.expand_dims(img_array, axis=0)\n",
        "\n",
        "            # Predict\n",
        "            prediction = model.predict(img_array)\n",
        "            predicted_class = np.argmax(prediction, axis=-1)\n",
        "\n",
        "            class_labels = [\"fall\", \"spring\", \"summer\", \"winter\"]\n",
        "            predicted_label = class_labels[predicted_class[0]]\n",
        "\n",
        "            # Output the prediction\n",
        "            print(f\"Filename: {filename}\")\n",
        "            print(f\"Predicted Class: {predicted_label}\")\n",
        "\n",
        "        except Exception as e:\n",
        "            print(f\"Error processing file {filename}: {e}\")"
      ],
      "metadata": {
        "id": "mOCFLk4xPIT4",
        "colab": {
          "base_uri": "https://localhost:8080/"
        },
        "outputId": "39786464-e62a-4121-d084-c527bab90706"
      },
      "execution_count": 41,
      "outputs": [
        {
          "output_type": "stream",
          "name": "stdout",
          "text": [
            "\u001b[1m1/1\u001b[0m \u001b[32m━━━━━━━━━━━━━━━━━━━━\u001b[0m\u001b[37m\u001b[0m \u001b[1m0s\u001b[0m 294ms/step\n",
            "Filename: img20_jpg.rf.ff7d3fe12d9bec7af311442707e1970c.jpg\n",
            "Predicted Class: spring\n",
            "\u001b[1m1/1\u001b[0m \u001b[32m━━━━━━━━━━━━━━━━━━━━\u001b[0m\u001b[37m\u001b[0m \u001b[1m0s\u001b[0m 280ms/step\n",
            "Filename: img102_jpg.rf.1b1d991caf3477e50fdc6970605aa8d4.jpg\n",
            "Predicted Class: spring\n",
            "\u001b[1m1/1\u001b[0m \u001b[32m━━━━━━━━━━━━━━━━━━━━\u001b[0m\u001b[37m\u001b[0m \u001b[1m0s\u001b[0m 308ms/step\n",
            "Filename: img25_jpg.rf.0746004515397329b440bf1682d03f37.jpg\n",
            "Predicted Class: spring\n",
            "Error processing file _classes.csv: cannot identify image file <_io.BytesIO object at 0x7ef231780ea0>\n",
            "\u001b[1m1/1\u001b[0m \u001b[32m━━━━━━━━━━━━━━━━━━━━\u001b[0m\u001b[37m\u001b[0m \u001b[1m0s\u001b[0m 286ms/step\n",
            "Filename: img105_jpg.rf.5451f1fa31f75790f69e7692508f9a86.jpg\n",
            "Predicted Class: spring\n",
            "\u001b[1m1/1\u001b[0m \u001b[32m━━━━━━━━━━━━━━━━━━━━\u001b[0m\u001b[37m\u001b[0m \u001b[1m0s\u001b[0m 280ms/step\n",
            "Filename: img23_jpg.rf.58cb70b240373e72816362d09eeb6ab2.jpg\n",
            "Predicted Class: fall\n",
            "\u001b[1m1/1\u001b[0m \u001b[32m━━━━━━━━━━━━━━━━━━━━\u001b[0m\u001b[37m\u001b[0m \u001b[1m0s\u001b[0m 288ms/step\n",
            "Filename: img26_jpg.rf.377f2b0690067c82d4d6f7fc3edbb57d.jpg\n",
            "Predicted Class: spring\n",
            "\u001b[1m1/1\u001b[0m \u001b[32m━━━━━━━━━━━━━━━━━━━━\u001b[0m\u001b[37m\u001b[0m \u001b[1m0s\u001b[0m 191ms/step\n",
            "Filename: img11_jpg.rf.0cd0254e86b7f84aa71913ae001eca67.jpg\n",
            "Predicted Class: fall\n",
            "\u001b[1m1/1\u001b[0m \u001b[32m━━━━━━━━━━━━━━━━━━━━\u001b[0m\u001b[37m\u001b[0m \u001b[1m0s\u001b[0m 166ms/step\n",
            "Filename: img69_jpg.rf.a99b9dfefb1dd239c76ad3fdd471174b.jpg\n",
            "Predicted Class: spring\n",
            "\u001b[1m1/1\u001b[0m \u001b[32m━━━━━━━━━━━━━━━━━━━━\u001b[0m\u001b[37m\u001b[0m \u001b[1m0s\u001b[0m 166ms/step\n",
            "Filename: img5_jpg.rf.e9a408d0e0c34283c912536e0e8e3d3c.jpg\n",
            "Predicted Class: spring\n",
            "\u001b[1m1/1\u001b[0m \u001b[32m━━━━━━━━━━━━━━━━━━━━\u001b[0m\u001b[37m\u001b[0m \u001b[1m0s\u001b[0m 180ms/step\n",
            "Filename: img33_jpg.rf.0d021baeb45deac48da0ec106eee6b92.jpg\n",
            "Predicted Class: spring\n",
            "\u001b[1m1/1\u001b[0m \u001b[32m━━━━━━━━━━━━━━━━━━━━\u001b[0m\u001b[37m\u001b[0m \u001b[1m0s\u001b[0m 164ms/step\n",
            "Filename: img50_jpg.rf.7d3b79f3f1ba1fc4b256089a35dafd86.jpg\n",
            "Predicted Class: spring\n",
            "\u001b[1m1/1\u001b[0m \u001b[32m━━━━━━━━━━━━━━━━━━━━\u001b[0m\u001b[37m\u001b[0m \u001b[1m0s\u001b[0m 179ms/step\n",
            "Filename: img48_jpg.rf.efcaf5c9af354ae3abd2b9be38bf9eea.jpg\n",
            "Predicted Class: fall\n",
            "\u001b[1m1/1\u001b[0m \u001b[32m━━━━━━━━━━━━━━━━━━━━\u001b[0m\u001b[37m\u001b[0m \u001b[1m0s\u001b[0m 165ms/step\n",
            "Filename: img51_jpg.rf.023d4dc5acc720b1d592393280667109.jpg\n",
            "Predicted Class: fall\n",
            "\u001b[1m1/1\u001b[0m \u001b[32m━━━━━━━━━━━━━━━━━━━━\u001b[0m\u001b[37m\u001b[0m \u001b[1m0s\u001b[0m 171ms/step\n",
            "Filename: img42_jpg.rf.aaadd1caeaf68362d2aa5140a09cb817.jpg\n",
            "Predicted Class: spring\n",
            "\u001b[1m1/1\u001b[0m \u001b[32m━━━━━━━━━━━━━━━━━━━━\u001b[0m\u001b[37m\u001b[0m \u001b[1m0s\u001b[0m 163ms/step\n",
            "Filename: img81_jpg.rf.0e9b651bd1395d577cea1221e41c38cc.jpg\n",
            "Predicted Class: spring\n",
            "\u001b[1m1/1\u001b[0m \u001b[32m━━━━━━━━━━━━━━━━━━━━\u001b[0m\u001b[37m\u001b[0m \u001b[1m0s\u001b[0m 162ms/step\n",
            "Filename: img31_jpg.rf.74bc8d5674e2801e6074dcca2054c118.jpg\n",
            "Predicted Class: spring\n",
            "\u001b[1m1/1\u001b[0m \u001b[32m━━━━━━━━━━━━━━━━━━━━\u001b[0m\u001b[37m\u001b[0m \u001b[1m0s\u001b[0m 167ms/step\n",
            "Filename: img34_jpg.rf.925ffd12cca0c89c4046ade7efc04621.jpg\n",
            "Predicted Class: spring\n",
            "\u001b[1m1/1\u001b[0m \u001b[32m━━━━━━━━━━━━━━━━━━━━\u001b[0m\u001b[37m\u001b[0m \u001b[1m0s\u001b[0m 181ms/step\n",
            "Filename: img39_jpg.rf.301f1b8cf0dde480af93099a9eee39c9.jpg\n",
            "Predicted Class: spring\n",
            "\u001b[1m1/1\u001b[0m \u001b[32m━━━━━━━━━━━━━━━━━━━━\u001b[0m\u001b[37m\u001b[0m \u001b[1m0s\u001b[0m 162ms/step\n",
            "Filename: img50_jpg.rf.631a3a7fb73167656f6cd35f685da63d.jpg\n",
            "Predicted Class: fall\n",
            "\u001b[1m1/1\u001b[0m \u001b[32m━━━━━━━━━━━━━━━━━━━━\u001b[0m\u001b[37m\u001b[0m \u001b[1m0s\u001b[0m 162ms/step\n",
            "Filename: img30_jpg.rf.e549971e0662b751a2207b48f82cec86.jpg\n",
            "Predicted Class: spring\n",
            "\u001b[1m1/1\u001b[0m \u001b[32m━━━━━━━━━━━━━━━━━━━━\u001b[0m\u001b[37m\u001b[0m \u001b[1m0s\u001b[0m 174ms/step\n",
            "Filename: img39_jpg.rf.2a902041f2275e821de8fe08204f7d6c.jpg\n",
            "Predicted Class: spring\n",
            "\u001b[1m1/1\u001b[0m \u001b[32m━━━━━━━━━━━━━━━━━━━━\u001b[0m\u001b[37m\u001b[0m \u001b[1m0s\u001b[0m 161ms/step\n",
            "Filename: img31_jpg.rf.8170a0157f255545969c7d4ecb83ed5c.jpg\n",
            "Predicted Class: spring\n",
            "\u001b[1m1/1\u001b[0m \u001b[32m━━━━━━━━━━━━━━━━━━━━\u001b[0m\u001b[37m\u001b[0m \u001b[1m0s\u001b[0m 179ms/step\n",
            "Filename: img34_jpg.rf.913af71ce8d7d24a6a9b5068bca14d01.jpg\n",
            "Predicted Class: spring\n",
            "\u001b[1m1/1\u001b[0m \u001b[32m━━━━━━━━━━━━━━━━━━━━\u001b[0m\u001b[37m\u001b[0m \u001b[1m0s\u001b[0m 163ms/step\n",
            "Filename: img48_jpg.rf.b44b1e06bf0c16283d82e935f6158f94.jpg\n",
            "Predicted Class: spring\n",
            "\u001b[1m1/1\u001b[0m \u001b[32m━━━━━━━━━━━━━━━━━━━━\u001b[0m\u001b[37m\u001b[0m \u001b[1m0s\u001b[0m 162ms/step\n",
            "Filename: img9_jpg.rf.f5387d7d4b4f500082e90ee936181946.jpg\n",
            "Predicted Class: winter\n"
          ]
        }
      ]
    },
    {
      "cell_type": "code",
      "source": [
        "model.save('model.h5')"
      ],
      "metadata": {
        "id": "RXYHF78bVUS1",
        "colab": {
          "base_uri": "https://localhost:8080/"
        },
        "outputId": "8823b4ea-bc5c-4918-bd03-cc1557c241c7"
      },
      "execution_count": 42,
      "outputs": [
        {
          "output_type": "stream",
          "name": "stderr",
          "text": [
            "WARNING:absl:You are saving your model as an HDF5 file via `model.save()` or `keras.saving.save_model(model)`. This file format is considered legacy. We recommend using instead the native Keras format, e.g. `model.save('my_model.keras')` or `keras.saving.save_model(model, 'my_model.keras')`. \n"
          ]
        }
      ]
    },
    {
      "cell_type": "code",
      "source": [
        "# Save the model in TFLite format\n",
        "tflite_model_path = \"model.tflite\"\n",
        "\n",
        "# Convert the model to TFLite format\n",
        "converter = tf.lite.TFLiteConverter.from_keras_model(model)\n",
        "tflite_model = converter.convert()\n",
        "\n",
        "# Save the TFLite model to a file\n",
        "with open(tflite_model_path, \"wb\") as f:\n",
        "    f.write(tflite_model)\n",
        "\n",
        "print(f\"TFLite model saved at {tflite_model_path}\")"
      ],
      "metadata": {
        "id": "wv_LntccPOap",
        "colab": {
          "base_uri": "https://localhost:8080/"
        },
        "outputId": "3164f55d-9876-4ab7-ad78-e7b3be8ee93c"
      },
      "execution_count": 43,
      "outputs": [
        {
          "output_type": "stream",
          "name": "stdout",
          "text": [
            "Saved artifact at '/tmp/tmpogb7441q'. The following endpoints are available:\n",
            "\n",
            "* Endpoint 'serve'\n",
            "  args_0 (POSITIONAL_ONLY): TensorSpec(shape=(None, 224, 224, 3), dtype=tf.float32, name='keras_tensor_640')\n",
            "Output Type:\n",
            "  TensorSpec(shape=(None, 4), dtype=tf.float32, name=None)\n",
            "Captures:\n",
            "  139578707728464: TensorSpec(shape=(), dtype=tf.resource, name=None)\n",
            "  139578784331584: TensorSpec(shape=(), dtype=tf.resource, name=None)\n",
            "  139578707727936: TensorSpec(shape=(), dtype=tf.resource, name=None)\n",
            "  139578842695456: TensorSpec(shape=(), dtype=tf.resource, name=None)\n",
            "  139578806343584: TensorSpec(shape=(), dtype=tf.resource, name=None)\n",
            "  139578831352608: TensorSpec(shape=(), dtype=tf.resource, name=None)\n",
            "  139578707840688: TensorSpec(shape=(), dtype=tf.resource, name=None)\n",
            "  139578784326304: TensorSpec(shape=(), dtype=tf.resource, name=None)\n",
            "  139578831348912: TensorSpec(shape=(), dtype=tf.resource, name=None)\n",
            "  139578762664368: TensorSpec(shape=(), dtype=tf.resource, name=None)\n",
            "  139578762661376: TensorSpec(shape=(), dtype=tf.resource, name=None)\n",
            "  139578762661728: TensorSpec(shape=(), dtype=tf.resource, name=None)\n",
            "  139578762672640: TensorSpec(shape=(), dtype=tf.resource, name=None)\n",
            "  139578762672992: TensorSpec(shape=(), dtype=tf.resource, name=None)\n",
            "  139578762806896: TensorSpec(shape=(), dtype=tf.resource, name=None)\n",
            "  139580623199344: TensorSpec(shape=(), dtype=tf.resource, name=None)\n",
            "  139578762818336: TensorSpec(shape=(), dtype=tf.resource, name=None)\n",
            "  139578762814288: TensorSpec(shape=(), dtype=tf.resource, name=None)\n",
            "  139578762820272: TensorSpec(shape=(), dtype=tf.resource, name=None)\n",
            "  139578762816048: TensorSpec(shape=(), dtype=tf.resource, name=None)\n",
            "  139578762880704: TensorSpec(shape=(), dtype=tf.resource, name=None)\n",
            "  139578762954880: TensorSpec(shape=(), dtype=tf.resource, name=None)\n",
            "  139578762878944: TensorSpec(shape=(), dtype=tf.resource, name=None)\n",
            "  139578707838752: TensorSpec(shape=(), dtype=tf.resource, name=None)\n",
            "  139578762961392: TensorSpec(shape=(), dtype=tf.resource, name=None)\n",
            "  139578707725296: TensorSpec(shape=(), dtype=tf.resource, name=None)\n",
            "  139578762961568: TensorSpec(shape=(), dtype=tf.resource, name=None)\n",
            "  139578762957520: TensorSpec(shape=(), dtype=tf.resource, name=None)\n",
            "  139578762959104: TensorSpec(shape=(), dtype=tf.resource, name=None)\n",
            "  139578762876656: TensorSpec(shape=(), dtype=tf.resource, name=None)\n",
            "  139578762876480: TensorSpec(shape=(), dtype=tf.resource, name=None)\n",
            "  139578762871376: TensorSpec(shape=(), dtype=tf.resource, name=None)\n",
            "  139578762967552: TensorSpec(shape=(), dtype=tf.resource, name=None)\n",
            "  139578762968432: TensorSpec(shape=(), dtype=tf.resource, name=None)\n",
            "  139578762883168: TensorSpec(shape=(), dtype=tf.resource, name=None)\n",
            "  139578762816224: TensorSpec(shape=(), dtype=tf.resource, name=None)\n",
            "  139578763092112: TensorSpec(shape=(), dtype=tf.resource, name=None)\n",
            "  139578763094752: TensorSpec(shape=(), dtype=tf.resource, name=None)\n",
            "  139578707723712: TensorSpec(shape=(), dtype=tf.resource, name=None)\n",
            "  139578762964384: TensorSpec(shape=(), dtype=tf.resource, name=None)\n",
            "  139578762968608: TensorSpec(shape=(), dtype=tf.resource, name=None)\n",
            "  139578762966320: TensorSpec(shape=(), dtype=tf.resource, name=None)\n",
            "  139578762883344: TensorSpec(shape=(), dtype=tf.resource, name=None)\n",
            "  139578762879296: TensorSpec(shape=(), dtype=tf.resource, name=None)\n",
            "  139578762880880: TensorSpec(shape=(), dtype=tf.resource, name=None)\n",
            "  139578707723888: TensorSpec(shape=(), dtype=tf.resource, name=None)\n",
            "  139578707672784: TensorSpec(shape=(), dtype=tf.resource, name=None)\n",
            "  139578707725648: TensorSpec(shape=(), dtype=tf.resource, name=None)\n",
            "  139578763260880: TensorSpec(shape=(), dtype=tf.resource, name=None)\n",
            "  139578763261056: TensorSpec(shape=(), dtype=tf.resource, name=None)\n",
            "  139578763261232: TensorSpec(shape=(), dtype=tf.resource, name=None)\n",
            "  139578763258592: TensorSpec(shape=(), dtype=tf.resource, name=None)\n",
            "  139578763258768: TensorSpec(shape=(), dtype=tf.resource, name=None)\n",
            "  139578763164688: TensorSpec(shape=(), dtype=tf.resource, name=None)\n",
            "  139578763350208: TensorSpec(shape=(), dtype=tf.resource, name=None)\n",
            "  139578763346160: TensorSpec(shape=(), dtype=tf.resource, name=None)\n",
            "  139578763347744: TensorSpec(shape=(), dtype=tf.resource, name=None)\n",
            "  139578763164512: TensorSpec(shape=(), dtype=tf.resource, name=None)\n",
            "  139578763163104: TensorSpec(shape=(), dtype=tf.resource, name=None)\n",
            "  139578763161872: TensorSpec(shape=(), dtype=tf.resource, name=None)\n",
            "  139578763354960: TensorSpec(shape=(), dtype=tf.resource, name=None)\n",
            "  139578763357072: TensorSpec(shape=(), dtype=tf.resource, name=None)\n",
            "  139578763163984: TensorSpec(shape=(), dtype=tf.resource, name=None)\n",
            "  139578763097568: TensorSpec(shape=(), dtype=tf.resource, name=None)\n",
            "  139578763399008: TensorSpec(shape=(), dtype=tf.resource, name=None)\n",
            "  139578763396720: TensorSpec(shape=(), dtype=tf.resource, name=None)\n",
            "  139578763396016: TensorSpec(shape=(), dtype=tf.resource, name=None)\n",
            "  139578763357248: TensorSpec(shape=(), dtype=tf.resource, name=None)\n",
            "  139578763353200: TensorSpec(shape=(), dtype=tf.resource, name=None)\n",
            "  139578763354784: TensorSpec(shape=(), dtype=tf.resource, name=None)\n",
            "  139578763254016: TensorSpec(shape=(), dtype=tf.resource, name=None)\n",
            "  139578763249968: TensorSpec(shape=(), dtype=tf.resource, name=None)\n",
            "  139578763251552: TensorSpec(shape=(), dtype=tf.resource, name=None)\n",
            "  139578763157824: TensorSpec(shape=(), dtype=tf.resource, name=None)\n",
            "  139578763153776: TensorSpec(shape=(), dtype=tf.resource, name=None)\n",
            "  139578763155360: TensorSpec(shape=(), dtype=tf.resource, name=None)\n",
            "  139578763093872: TensorSpec(shape=(), dtype=tf.resource, name=None)\n",
            "  139578761438208: TensorSpec(shape=(), dtype=tf.resource, name=None)\n",
            "  139578761434688: TensorSpec(shape=(), dtype=tf.resource, name=None)\n",
            "  139578761435744: TensorSpec(shape=(), dtype=tf.resource, name=None)\n",
            "  139578761445072: TensorSpec(shape=(), dtype=tf.resource, name=None)\n",
            "  139578763404464: TensorSpec(shape=(), dtype=tf.resource, name=None)\n",
            "  139578761527360: TensorSpec(shape=(), dtype=tf.resource, name=None)\n",
            "  139578761444896: TensorSpec(shape=(), dtype=tf.resource, name=None)\n",
            "  139578761442960: TensorSpec(shape=(), dtype=tf.resource, name=None)\n",
            "  139578761432048: TensorSpec(shape=(), dtype=tf.resource, name=None)\n",
            "  139578761433456: TensorSpec(shape=(), dtype=tf.resource, name=None)\n",
            "  139578761432928: TensorSpec(shape=(), dtype=tf.resource, name=None)\n",
            "  139578761542672: TensorSpec(shape=(), dtype=tf.resource, name=None)\n",
            "  139578761444192: TensorSpec(shape=(), dtype=tf.resource, name=None)\n",
            "  139578763409920: TensorSpec(shape=(), dtype=tf.resource, name=None)\n",
            "  139578763406928: TensorSpec(shape=(), dtype=tf.resource, name=None)\n",
            "  139578761542496: TensorSpec(shape=(), dtype=tf.resource, name=None)\n",
            "  139578761541088: TensorSpec(shape=(), dtype=tf.resource, name=None)\n",
            "  139578761539856: TensorSpec(shape=(), dtype=tf.resource, name=None)\n",
            "  139578761534400: TensorSpec(shape=(), dtype=tf.resource, name=None)\n",
            "  139578761530352: TensorSpec(shape=(), dtype=tf.resource, name=None)\n",
            "  139578761531936: TensorSpec(shape=(), dtype=tf.resource, name=None)\n",
            "  139578763092464: TensorSpec(shape=(), dtype=tf.resource, name=None)\n",
            "  139578763097392: TensorSpec(shape=(), dtype=tf.resource, name=None)\n",
            "  139578763094576: TensorSpec(shape=(), dtype=tf.resource, name=None)\n",
            "  139578763407104: TensorSpec(shape=(), dtype=tf.resource, name=None)\n",
            "  139578763403056: TensorSpec(shape=(), dtype=tf.resource, name=None)\n",
            "  139578763404640: TensorSpec(shape=(), dtype=tf.resource, name=None)\n",
            "  139578761656656: TensorSpec(shape=(), dtype=tf.resource, name=None)\n",
            "  139578761656832: TensorSpec(shape=(), dtype=tf.resource, name=None)\n",
            "  139578761657008: TensorSpec(shape=(), dtype=tf.resource, name=None)\n",
            "  139578761654368: TensorSpec(shape=(), dtype=tf.resource, name=None)\n",
            "  139578761654544: TensorSpec(shape=(), dtype=tf.resource, name=None)\n",
            "  139578761762368: TensorSpec(shape=(), dtype=tf.resource, name=None)\n",
            "  139578761758320: TensorSpec(shape=(), dtype=tf.resource, name=None)\n",
            "  139578761759904: TensorSpec(shape=(), dtype=tf.resource, name=None)\n",
            "  139578761769232: TensorSpec(shape=(), dtype=tf.resource, name=None)\n",
            "  139578761541968: TensorSpec(shape=(), dtype=tf.resource, name=None)\n",
            "  139578761769408: TensorSpec(shape=(), dtype=tf.resource, name=None)\n",
            "  139578761769584: TensorSpec(shape=(), dtype=tf.resource, name=None)\n",
            "  139578761766944: TensorSpec(shape=(), dtype=tf.resource, name=None)\n",
            "  139578761649792: TensorSpec(shape=(), dtype=tf.resource, name=None)\n",
            "  139578761645744: TensorSpec(shape=(), dtype=tf.resource, name=None)\n",
            "  139578761647328: TensorSpec(shape=(), dtype=tf.resource, name=None)\n",
            "  139578761968832: TensorSpec(shape=(), dtype=tf.resource, name=None)\n",
            "  139578762054640: TensorSpec(shape=(), dtype=tf.resource, name=None)\n",
            "  139578762052176: TensorSpec(shape=(), dtype=tf.resource, name=None)\n",
            "  139578762054112: TensorSpec(shape=(), dtype=tf.resource, name=None)\n",
            "  139578762061152: TensorSpec(shape=(), dtype=tf.resource, name=None)\n",
            "  139578762061328: TensorSpec(shape=(), dtype=tf.resource, name=None)\n",
            "  139578762057280: TensorSpec(shape=(), dtype=tf.resource, name=None)\n",
            "  139578762058864: TensorSpec(shape=(), dtype=tf.resource, name=None)\n",
            "  139578762065024: TensorSpec(shape=(), dtype=tf.resource, name=None)\n",
            "  139578762807424: TensorSpec(shape=(), dtype=tf.resource, name=None)\n",
            "  139578762134800: TensorSpec(shape=(), dtype=tf.resource, name=None)\n",
            "  139578762066960: TensorSpec(shape=(), dtype=tf.resource, name=None)\n",
            "  139578762067488: TensorSpec(shape=(), dtype=tf.resource, name=None)\n",
            "  139578761885328: TensorSpec(shape=(), dtype=tf.resource, name=None)\n",
            "  139578761881808: TensorSpec(shape=(), dtype=tf.resource, name=None)\n",
            "  139578761879872: TensorSpec(shape=(), dtype=tf.resource, name=None)\n",
            "  139578762067136: TensorSpec(shape=(), dtype=tf.resource, name=None)\n",
            "  139578761881984: TensorSpec(shape=(), dtype=tf.resource, name=None)\n",
            "  139578762141136: TensorSpec(shape=(), dtype=tf.resource, name=None)\n",
            "  139578762137088: TensorSpec(shape=(), dtype=tf.resource, name=None)\n",
            "  139578762138672: TensorSpec(shape=(), dtype=tf.resource, name=None)\n",
            "  139578761958096: TensorSpec(shape=(), dtype=tf.resource, name=None)\n",
            "  139578761954048: TensorSpec(shape=(), dtype=tf.resource, name=None)\n",
            "  139578761955632: TensorSpec(shape=(), dtype=tf.resource, name=None)\n",
            "  139578762145888: TensorSpec(shape=(), dtype=tf.resource, name=None)\n",
            "  139578762148000: TensorSpec(shape=(), dtype=tf.resource, name=None)\n",
            "  139578761964960: TensorSpec(shape=(), dtype=tf.resource, name=None)\n",
            "  139578761875472: TensorSpec(shape=(), dtype=tf.resource, name=None)\n",
            "  139578762255120: TensorSpec(shape=(), dtype=tf.resource, name=None)\n",
            "  139578762251072: TensorSpec(shape=(), dtype=tf.resource, name=None)\n",
            "  139578762252656: TensorSpec(shape=(), dtype=tf.resource, name=None)\n",
            "  139578762148176: TensorSpec(shape=(), dtype=tf.resource, name=None)\n",
            "  139578762148352: TensorSpec(shape=(), dtype=tf.resource, name=None)\n",
            "  139578762145712: TensorSpec(shape=(), dtype=tf.resource, name=None)\n",
            "  139578761965136: TensorSpec(shape=(), dtype=tf.resource, name=None)\n",
            "  139578761965312: TensorSpec(shape=(), dtype=tf.resource, name=None)\n",
            "  139578761962672: TensorSpec(shape=(), dtype=tf.resource, name=None)\n",
            "  139578761883920: TensorSpec(shape=(), dtype=tf.resource, name=None)\n",
            "  139578762967376: TensorSpec(shape=(), dtype=tf.resource, name=None)\n",
            "  139578761882512: TensorSpec(shape=(), dtype=tf.resource, name=None)\n",
            "  139578762425648: TensorSpec(shape=(), dtype=tf.resource, name=None)\n",
            "  139578760430160: TensorSpec(shape=(), dtype=tf.resource, name=None)\n",
            "  139578762427584: TensorSpec(shape=(), dtype=tf.resource, name=None)\n",
            "  139578762428112: TensorSpec(shape=(), dtype=tf.resource, name=None)\n",
            "  139578762427760: TensorSpec(shape=(), dtype=tf.resource, name=None)\n",
            "  139578760437376: TensorSpec(shape=(), dtype=tf.resource, name=None)\n",
            "  139578760433328: TensorSpec(shape=(), dtype=tf.resource, name=None)\n",
            "  139578760434912: TensorSpec(shape=(), dtype=tf.resource, name=None)\n",
            "  139578760444240: TensorSpec(shape=(), dtype=tf.resource, name=None)\n",
            "  139578762261280: TensorSpec(shape=(), dtype=tf.resource, name=None)\n",
            "  139578760444416: TensorSpec(shape=(), dtype=tf.resource, name=None)\n",
            "  139578760444592: TensorSpec(shape=(), dtype=tf.resource, name=None)\n",
            "  139578760441952: TensorSpec(shape=(), dtype=tf.resource, name=None)\n",
            "  139578762336336: TensorSpec(shape=(), dtype=tf.resource, name=None)\n",
            "  139578762332288: TensorSpec(shape=(), dtype=tf.resource, name=None)\n",
            "  139578762333872: TensorSpec(shape=(), dtype=tf.resource, name=None)\n",
            "  139578760442128: TensorSpec(shape=(), dtype=tf.resource, name=None)\n",
            "  139578762343200: TensorSpec(shape=(), dtype=tf.resource, name=None)\n",
            "  139578760533568: TensorSpec(shape=(), dtype=tf.resource, name=None)\n",
            "  139578760529520: TensorSpec(shape=(), dtype=tf.resource, name=None)\n",
            "  139578760531104: TensorSpec(shape=(), dtype=tf.resource, name=None)\n",
            "  139578762343376: TensorSpec(shape=(), dtype=tf.resource, name=None)\n",
            "  139578762343552: TensorSpec(shape=(), dtype=tf.resource, name=None)\n",
            "  139578762340912: TensorSpec(shape=(), dtype=tf.resource, name=None)\n",
            "  139578761878464: TensorSpec(shape=(), dtype=tf.resource, name=None)\n",
            "  139578761879168: TensorSpec(shape=(), dtype=tf.resource, name=None)\n",
            "  139578762341088: TensorSpec(shape=(), dtype=tf.resource, name=None)\n",
            "  139578762263392: TensorSpec(shape=(), dtype=tf.resource, name=None)\n",
            "  139578760543248: TensorSpec(shape=(), dtype=tf.resource, name=None)\n",
            "  139578760543424: TensorSpec(shape=(), dtype=tf.resource, name=None)\n",
            "  139578760540784: TensorSpec(shape=(), dtype=tf.resource, name=None)\n",
            "  139578760527936: TensorSpec(shape=(), dtype=tf.resource, name=None)\n",
            "  139578763084192: TensorSpec(shape=(), dtype=tf.resource, name=None)\n",
            "  139578761874592: TensorSpec(shape=(), dtype=tf.resource, name=None)\n",
            "  139578762416320: TensorSpec(shape=(), dtype=tf.resource, name=None)\n",
            "  139578762418960: TensorSpec(shape=(), dtype=tf.resource, name=None)\n",
            "  139578762413504: TensorSpec(shape=(), dtype=tf.resource, name=None)\n",
            "  139578762263568: TensorSpec(shape=(), dtype=tf.resource, name=None)\n",
            "  139578762263744: TensorSpec(shape=(), dtype=tf.resource, name=None)\n",
            "  139578762261104: TensorSpec(shape=(), dtype=tf.resource, name=None)\n",
            "  139578760734752: TensorSpec(shape=(), dtype=tf.resource, name=None)\n",
            "  139578760826544: TensorSpec(shape=(), dtype=tf.resource, name=None)\n",
            "  139578760824256: TensorSpec(shape=(), dtype=tf.resource, name=None)\n",
            "  139578760823552: TensorSpec(shape=(), dtype=tf.resource, name=None)\n",
            "  139578760833056: TensorSpec(shape=(), dtype=tf.resource, name=None)\n",
            "  139578760833232: TensorSpec(shape=(), dtype=tf.resource, name=None)\n",
            "  139578760829184: TensorSpec(shape=(), dtype=tf.resource, name=None)\n",
            "  139578760830768: TensorSpec(shape=(), dtype=tf.resource, name=None)\n",
            "  139578760836928: TensorSpec(shape=(), dtype=tf.resource, name=None)\n",
            "  139578760673440: TensorSpec(shape=(), dtype=tf.resource, name=None)\n",
            "  139578760904768: TensorSpec(shape=(), dtype=tf.resource, name=None)\n",
            "  139578760828832: TensorSpec(shape=(), dtype=tf.resource, name=None)\n",
            "  139578760838512: TensorSpec(shape=(), dtype=tf.resource, name=None)\n",
            "  139578760673616: TensorSpec(shape=(), dtype=tf.resource, name=None)\n",
            "  139578760673792: TensorSpec(shape=(), dtype=tf.resource, name=None)\n",
            "  139578760671152: TensorSpec(shape=(), dtype=tf.resource, name=None)\n",
            "  139578760838864: TensorSpec(shape=(), dtype=tf.resource, name=None)\n",
            "  139578760671328: TensorSpec(shape=(), dtype=tf.resource, name=None)\n",
            "  139578760913040: TensorSpec(shape=(), dtype=tf.resource, name=None)\n",
            "  139578760908992: TensorSpec(shape=(), dtype=tf.resource, name=None)\n",
            "  139578760910576: TensorSpec(shape=(), dtype=tf.resource, name=None)\n",
            "  139578760730000: TensorSpec(shape=(), dtype=tf.resource, name=None)\n",
            "  139578760725952: TensorSpec(shape=(), dtype=tf.resource, name=None)\n",
            "  139578760727536: TensorSpec(shape=(), dtype=tf.resource, name=None)\n",
            "  139578760917792: TensorSpec(shape=(), dtype=tf.resource, name=None)\n",
            "  139578760919904: TensorSpec(shape=(), dtype=tf.resource, name=None)\n",
            "  139578760736864: TensorSpec(shape=(), dtype=tf.resource, name=None)\n",
            "  139578760540960: TensorSpec(shape=(), dtype=tf.resource, name=None)\n",
            "  139578760994256: TensorSpec(shape=(), dtype=tf.resource, name=None)\n",
            "  139578760990208: TensorSpec(shape=(), dtype=tf.resource, name=None)\n",
            "  139578760991792: TensorSpec(shape=(), dtype=tf.resource, name=None)\n",
            "  139578760920080: TensorSpec(shape=(), dtype=tf.resource, name=None)\n",
            "  139578760920256: TensorSpec(shape=(), dtype=tf.resource, name=None)\n",
            "  139578760917616: TensorSpec(shape=(), dtype=tf.resource, name=None)\n",
            "  139578760737040: TensorSpec(shape=(), dtype=tf.resource, name=None)\n",
            "  139578760737216: TensorSpec(shape=(), dtype=tf.resource, name=None)\n",
            "  139578760734576: TensorSpec(shape=(), dtype=tf.resource, name=None)\n",
            "  139578760666576: TensorSpec(shape=(), dtype=tf.resource, name=None)\n",
            "  139578760662528: TensorSpec(shape=(), dtype=tf.resource, name=None)\n",
            "  139578760664112: TensorSpec(shape=(), dtype=tf.resource, name=None)\n",
            "  139578762416672: TensorSpec(shape=(), dtype=tf.resource, name=None)\n",
            "  139578881701872: TensorSpec(shape=(), dtype=tf.resource, name=None)\n",
            "  139578762414912: TensorSpec(shape=(), dtype=tf.resource, name=None)\n",
            "  139578817326144: TensorSpec(shape=(), dtype=tf.resource, name=None)\n",
            "  139578843710384: TensorSpec(shape=(), dtype=tf.resource, name=None)\n",
            "  139578904030624: TensorSpec(shape=(), dtype=tf.resource, name=None)\n",
            "  139578902528768: TensorSpec(shape=(), dtype=tf.resource, name=None)\n",
            "  139578881690784: TensorSpec(shape=(), dtype=tf.resource, name=None)\n",
            "  139578902530176: TensorSpec(shape=(), dtype=tf.resource, name=None)\n",
            "  139581818696832: TensorSpec(shape=(), dtype=tf.resource, name=None)\n",
            "  139578761000944: TensorSpec(shape=(), dtype=tf.resource, name=None)\n",
            "  139578760989856: TensorSpec(shape=(), dtype=tf.resource, name=None)\n",
            "  139578761001824: TensorSpec(shape=(), dtype=tf.resource, name=None)\n",
            "  139578819029552: TensorSpec(shape=(), dtype=tf.resource, name=None)\n",
            "  139578831350848: TensorSpec(shape=(), dtype=tf.resource, name=None)\n",
            "  139578843958960: TensorSpec(shape=(), dtype=tf.resource, name=None)\n",
            "  139578760997952: TensorSpec(shape=(), dtype=tf.resource, name=None)\n",
            "  139578843963360: TensorSpec(shape=(), dtype=tf.resource, name=None)\n",
            "  139578751031200: TensorSpec(shape=(), dtype=tf.resource, name=None)\n",
            "  139578751027152: TensorSpec(shape=(), dtype=tf.resource, name=None)\n",
            "  139578751028736: TensorSpec(shape=(), dtype=tf.resource, name=None)\n",
            "  139578707723360: TensorSpec(shape=(), dtype=tf.resource, name=None)\n",
            "  139578761882864: TensorSpec(shape=(), dtype=tf.resource, name=None)\n",
            "  139578842808384: TensorSpec(shape=(), dtype=tf.resource, name=None)\n",
            "  139578751035952: TensorSpec(shape=(), dtype=tf.resource, name=None)\n",
            "  139578751038064: TensorSpec(shape=(), dtype=tf.resource, name=None)\n",
            "  139578762412096: TensorSpec(shape=(), dtype=tf.resource, name=None)\n",
            "  139578842706544: TensorSpec(shape=(), dtype=tf.resource, name=None)\n",
            "  139578751112416: TensorSpec(shape=(), dtype=tf.resource, name=None)\n",
            "  139578751108368: TensorSpec(shape=(), dtype=tf.resource, name=None)\n",
            "  139578751109952: TensorSpec(shape=(), dtype=tf.resource, name=None)\n",
            "  139578751038240: TensorSpec(shape=(), dtype=tf.resource, name=None)\n",
            "  139578751038416: TensorSpec(shape=(), dtype=tf.resource, name=None)\n",
            "  139578751035776: TensorSpec(shape=(), dtype=tf.resource, name=None)\n",
            "  139578817128656: TensorSpec(shape=(), dtype=tf.resource, name=None)\n",
            "  139578762412272: TensorSpec(shape=(), dtype=tf.resource, name=None)\n",
            "  139578762412976: TensorSpec(shape=(), dtype=tf.resource, name=None)\n",
            "  139578820672000: TensorSpec(shape=(), dtype=tf.resource, name=None)\n",
            "  139578820066672: TensorSpec(shape=(), dtype=tf.resource, name=None)\n",
            "  139578828762880: TensorSpec(shape=(), dtype=tf.resource, name=None)\n",
            "  139578807528688: TensorSpec(shape=(), dtype=tf.resource, name=None)\n",
            "  139578807529040: TensorSpec(shape=(), dtype=tf.resource, name=None)\n",
            "  139578807531680: TensorSpec(shape=(), dtype=tf.resource, name=None)\n",
            "  139578817129712: TensorSpec(shape=(), dtype=tf.resource, name=None)\n",
            "  139578807484480: TensorSpec(shape=(), dtype=tf.resource, name=None)\n",
            "  139578807496624: TensorSpec(shape=(), dtype=tf.resource, name=None)\n",
            "  139578807497328: TensorSpec(shape=(), dtype=tf.resource, name=None)\n",
            "  139578807493104: TensorSpec(shape=(), dtype=tf.resource, name=None)\n",
            "  139578807500320: TensorSpec(shape=(), dtype=tf.resource, name=None)\n",
            "  139578751120688: TensorSpec(shape=(), dtype=tf.resource, name=None)\n",
            "  139578807536976: TensorSpec(shape=(), dtype=tf.resource, name=None)\n",
            "  139578807537152: TensorSpec(shape=(), dtype=tf.resource, name=None)\n",
            "  139578807533984: TensorSpec(shape=(), dtype=tf.resource, name=None)\n",
            "  139578751120864: TensorSpec(shape=(), dtype=tf.resource, name=None)\n",
            "  139578751121040: TensorSpec(shape=(), dtype=tf.resource, name=None)\n",
            "  139578751118400: TensorSpec(shape=(), dtype=tf.resource, name=None)\n",
            "  139578807543488: TensorSpec(shape=(), dtype=tf.resource, name=None)\n",
            "  139578751118576: TensorSpec(shape=(), dtype=tf.resource, name=None)\n",
            "  139578842706192: TensorSpec(shape=(), dtype=tf.resource, name=None)\n",
            "  139578820504992: TensorSpec(shape=(), dtype=tf.resource, name=None)\n",
            "  139578807499264: TensorSpec(shape=(), dtype=tf.resource, name=None)\n",
            "  139578807521824: TensorSpec(shape=(), dtype=tf.resource, name=None)\n",
            "  139578807517776: TensorSpec(shape=(), dtype=tf.resource, name=None)\n",
            "  139578807519360: TensorSpec(shape=(), dtype=tf.resource, name=None)\n",
            "  139578807480944: TensorSpec(shape=(), dtype=tf.resource, name=None)\n",
            "  139578761141536: TensorSpec(shape=(), dtype=tf.resource, name=None)\n",
            "  139578761137488: TensorSpec(shape=(), dtype=tf.resource, name=None)\n",
            "  139578761139072: TensorSpec(shape=(), dtype=tf.resource, name=None)\n",
            "  139578761148400: TensorSpec(shape=(), dtype=tf.resource, name=None)\n",
            "  139578807547536: TensorSpec(shape=(), dtype=tf.resource, name=None)\n",
            "  139578761148576: TensorSpec(shape=(), dtype=tf.resource, name=None)\n",
            "  139578761148752: TensorSpec(shape=(), dtype=tf.resource, name=None)\n",
            "  139578761146112: TensorSpec(shape=(), dtype=tf.resource, name=None)\n",
            "  139578807468096: TensorSpec(shape=(), dtype=tf.resource, name=None)\n",
            "  139578807541728: TensorSpec(shape=(), dtype=tf.resource, name=None)\n",
            "  139578807549648: TensorSpec(shape=(), dtype=tf.resource, name=None)\n",
            "  139578761176592: TensorSpec(shape=(), dtype=tf.resource, name=None)\n",
            "  139578761146288: TensorSpec(shape=(), dtype=tf.resource, name=None)\n",
            "  139578807483056: TensorSpec(shape=(), dtype=tf.resource, name=None)\n",
            "  139578807546656: TensorSpec(shape=(), dtype=tf.resource, name=None)\n",
            "  139578761174832: TensorSpec(shape=(), dtype=tf.resource, name=None)\n",
            "  139578761202672: TensorSpec(shape=(), dtype=tf.resource, name=None)\n",
            "  139578761203376: TensorSpec(shape=(), dtype=tf.resource, name=None)\n",
            "  139578761200560: TensorSpec(shape=(), dtype=tf.resource, name=None)\n",
            "  139578761172192: TensorSpec(shape=(), dtype=tf.resource, name=None)\n",
            "  139578761168144: TensorSpec(shape=(), dtype=tf.resource, name=None)\n",
            "  139578761169728: TensorSpec(shape=(), dtype=tf.resource, name=None)\n",
            "  139578807483232: TensorSpec(shape=(), dtype=tf.resource, name=None)\n",
            "  139578807483408: TensorSpec(shape=(), dtype=tf.resource, name=None)\n",
            "  139578807480768: TensorSpec(shape=(), dtype=tf.resource, name=None)\n",
            "  139578807476192: TensorSpec(shape=(), dtype=tf.resource, name=None)\n",
            "  139578807472144: TensorSpec(shape=(), dtype=tf.resource, name=None)\n",
            "  139578807473728: TensorSpec(shape=(), dtype=tf.resource, name=None)\n",
            "  139578761000592: TensorSpec(shape=(), dtype=tf.resource, name=None)\n",
            "  139578761212528: TensorSpec(shape=(), dtype=tf.resource, name=None)\n",
            "  139578761208480: TensorSpec(shape=(), dtype=tf.resource, name=None)\n",
            "  139578761210064: TensorSpec(shape=(), dtype=tf.resource, name=None)\n",
            "  139578807543312: TensorSpec(shape=(), dtype=tf.resource, name=None)\n",
            "  139578807538208: TensorSpec(shape=(), dtype=tf.resource, name=None)\n",
            "  139578807540496: TensorSpec(shape=(), dtype=tf.resource, name=None)\n",
            "  139578807490816: TensorSpec(shape=(), dtype=tf.resource, name=None)\n",
            "  139578807532384: TensorSpec(shape=(), dtype=tf.resource, name=None)\n",
            "  139578807523936: TensorSpec(shape=(), dtype=tf.resource, name=None)\n",
            "  139578807527104: TensorSpec(shape=(), dtype=tf.resource, name=None)\n",
            "  139578807530800: TensorSpec(shape=(), dtype=tf.resource, name=None)\n",
            "  139578761244416: TensorSpec(shape=(), dtype=tf.resource, name=None)\n",
            "  139578761333744: TensorSpec(shape=(), dtype=tf.resource, name=None)\n",
            "  139578761331280: TensorSpec(shape=(), dtype=tf.resource, name=None)\n",
            "  139578761333216: TensorSpec(shape=(), dtype=tf.resource, name=None)\n",
            "  139578761244592: TensorSpec(shape=(), dtype=tf.resource, name=None)\n",
            "  139578761244768: TensorSpec(shape=(), dtype=tf.resource, name=None)\n",
            "  139578761242128: TensorSpec(shape=(), dtype=tf.resource, name=None)\n",
            "  139578761344128: TensorSpec(shape=(), dtype=tf.resource, name=None)\n",
            "  139578761340256: TensorSpec(shape=(), dtype=tf.resource, name=None)\n",
            "  139578761275072: TensorSpec(shape=(), dtype=tf.resource, name=None)\n",
            "  139578761248288: TensorSpec(shape=(), dtype=tf.resource, name=None)\n",
            "  139578761346240: TensorSpec(shape=(), dtype=tf.resource, name=None)\n",
            "  139578761364752: TensorSpec(shape=(), dtype=tf.resource, name=None)\n",
            "  139578761346064: TensorSpec(shape=(), dtype=tf.resource, name=None)\n",
            "  139578761346592: TensorSpec(shape=(), dtype=tf.resource, name=None)\n",
            "  139578761340432: TensorSpec(shape=(), dtype=tf.resource, name=None)\n",
            "  139578761336384: TensorSpec(shape=(), dtype=tf.resource, name=None)\n",
            "  139578761337968: TensorSpec(shape=(), dtype=tf.resource, name=None)\n",
            "  139578761275248: TensorSpec(shape=(), dtype=tf.resource, name=None)\n",
            "  139578761271200: TensorSpec(shape=(), dtype=tf.resource, name=None)\n",
            "  139578761272784: TensorSpec(shape=(), dtype=tf.resource, name=None)\n",
            "  139578761268560: TensorSpec(shape=(), dtype=tf.resource, name=None)\n",
            "  139578761268736: TensorSpec(shape=(), dtype=tf.resource, name=None)\n",
            "  139578761265568: TensorSpec(shape=(), dtype=tf.resource, name=None)\n",
            "  139578761210240: TensorSpec(shape=(), dtype=tf.resource, name=None)\n",
            "  139578761373904: TensorSpec(shape=(), dtype=tf.resource, name=None)\n",
            "  139578761369856: TensorSpec(shape=(), dtype=tf.resource, name=None)\n",
            "  139578761371440: TensorSpec(shape=(), dtype=tf.resource, name=None)\n",
            "  139578761237552: TensorSpec(shape=(), dtype=tf.resource, name=None)\n",
            "  139578761233504: TensorSpec(shape=(), dtype=tf.resource, name=None)\n",
            "  139578761235088: TensorSpec(shape=(), dtype=tf.resource, name=None)\n",
            "  139578714224448: TensorSpec(shape=(), dtype=tf.resource, name=None)\n",
            "  139578711465424: TensorSpec(shape=(), dtype=tf.resource, name=None)\n",
            "  139578711466832: TensorSpec(shape=(), dtype=tf.resource, name=None)\n",
            "  139578711804560: TensorSpec(shape=(), dtype=tf.resource, name=None)\n",
            "TFLite model saved at model.tflite\n"
          ]
        }
      ]
    }
  ]
}